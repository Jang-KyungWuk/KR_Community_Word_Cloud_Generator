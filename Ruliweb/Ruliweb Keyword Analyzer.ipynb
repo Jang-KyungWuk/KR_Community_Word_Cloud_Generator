{
  "nbformat": 4,
  "nbformat_minor": 0,
  "metadata": {
    "colab": {
      "name": "Ruliweb Keyword Analyzer v 1.1 commentary.ipynb",
      "provenance": [],
      "collapsed_sections": [],
      "authorship_tag": "ABX9TyMs4Bi58lW0BauLT7ra/hlR",
      "include_colab_link": true
    },
    "kernelspec": {
      "name": "python3",
      "display_name": "Python 3"
    }
  },
  "cells": [
    {
      "cell_type": "markdown",
      "metadata": {
        "id": "view-in-github",
        "colab_type": "text"
      },
      "source": [
        "<a href=\"https://colab.research.google.com/github/Jang-KyungWuk/KR_Community_Word_Cloud_Generator/blob/master/Ruliweb%20Keyword%20Analyzer.ipynb\" target=\"_parent\"><img src=\"https://colab.research.google.com/assets/colab-badge.svg\" alt=\"Open In Colab\"/></a>"
      ]
    },
    {
      "cell_type": "code",
      "metadata": {
        "id": "an1mQan2sLel",
        "colab_type": "code",
        "colab": {}
      },
      "source": [
        "# Import Drive\n",
        "from google.colab import drive\n",
        "drive.mount('/content/gdrive')"
      ],
      "execution_count": null,
      "outputs": []
    },
    {
      "cell_type": "code",
      "metadata": {
        "id": "ygfyfE2-8HMW",
        "colab_type": "code",
        "colab": {}
      },
      "source": [
        "# KoNLPy Install\n",
        "!apt-get update\n",
        "!apt-get install g++ openjdk-8-jdk \n",
        "!pip3 install konlpy\n",
        "\n",
        "# Install KR Font\n",
        "!apt -qq -y install fonts-nanum\n",
        "fontpath = '/usr/share/fonts/truetype/nanum/NanumBarunGothic.ttf'\n",
        "\n",
        "# Install emoji to delete emojis\n",
        "!pip install emoji"
      ],
      "execution_count": null,
      "outputs": []
    },
    {
      "cell_type": "code",
      "metadata": {
        "id": "IiAK3W-vweBp",
        "colab_type": "code",
        "colab": {}
      },
      "source": [
        "# Variables\n",
        "board_id=\"300143\"\n",
        "'''\n",
        "북유게        \"300148\"\n",
        "유게          \"300143\"\n",
        "유머게시판    \"300143?cate=497\"  \n",
        "라스트 오리진 \"184992\"\n",
        "명일방주      \"185062\"\n",
        "'''\n",
        "\n",
        "crawl_min=1\n",
        "crawl_max=101\n",
        "\n",
        "crawl_title=True\n",
        "crawl_article=False\n",
        "\n",
        "img_file=\"Common Bottlenose Dolphin_b.png\"\n",
        "base_dir=\"/content/gdrive/My Drive/\"\n",
        "img_dir=base_dir+img_file\n",
        "\n",
        "user_dic_name=\"user_dic.txt\"\n",
        "show_tags=[\"NNG\",\"NNP\",\"NR\",\"IC\",\"SL\",\"SH\",\"SW\",\"SN\"]"
      ],
      "execution_count": null,
      "outputs": []
    },
    {
      "cell_type": "code",
      "metadata": {
        "id": "QPFXjIYGVMPa",
        "colab_type": "code",
        "colab": {}
      },
      "source": [
        "# Import libraries\n",
        "\n",
        "# For web crawling\n",
        "from bs4 import BeautifulSoup\n",
        "import requests as rq\n",
        "import re\n",
        "\n",
        "# For naming\n",
        "import datetime\n",
        "\n",
        "# For word cloud generating\n",
        "import numpy as np\n",
        "import random\n",
        "from PIL import Image\n",
        "from wordcloud import WordCloud, STOPWORDS\n",
        "from palettable.colorbrewer.qualitative import Dark2_8\n",
        "\n",
        "# For kr analysis\n",
        "import konlpy\n",
        "import nltk\n",
        "\n",
        "# For emoji delete\n",
        "import emoji"
      ],
      "execution_count": null,
      "outputs": []
    },
    {
      "cell_type": "code",
      "metadata": {
        "id": "v7OGkaWHwLKV",
        "colab_type": "code",
        "colab": {}
      },
      "source": [
        "# Get current time (KST = GMT +9)\n",
        "KST=datetime.timezone(datetime.timedelta(hours=9))\n",
        "now=datetime.datetime.now(KST)\n",
        "MM=now.month\n",
        "DD=now.day\n",
        "hh=now.hour\n",
        "mm=now.minute\n",
        "c_time=(\"%s-%s-%s-%s\")%(MM,DD,hh,mm)"
      ],
      "execution_count": null,
      "outputs": []
    },
    {
      "cell_type": "code",
      "metadata": {
        "id": "D00VqLMBsfJQ",
        "colab_type": "code",
        "colab": {}
      },
      "source": [
        "# Base URL\n",
        "main_url=\"https://bbs.ruliweb.com/community/board\"\n",
        "base_url=main_url*1\n",
        "base_url+=((\"/%s?page=\")%board_id)"
      ],
      "execution_count": null,
      "outputs": []
    },
    {
      "cell_type": "code",
      "metadata": {
        "id": "t9hM-SSExz1l",
        "colab_type": "code",
        "colab": {}
      },
      "source": [
        "# File names, directories\n",
        "file_id=(\"%s %s~%s\")%(c_time,crawl_min,(crawl_max-1))\n",
        "\n",
        "title_file_name=(\"%s title crawl %s.txt\")%(board_id, file_id)\n",
        "title_file_dir=base_dir+title_file_name\n",
        "\n",
        "article_file_name=(\"%s article crawl %s.txt\")%(board_id, file_id)\n",
        "article_file_dir=base_dir+article_file_name\n",
        "\n",
        "bbs_file_name=(\"%s bbs crawl %s.txt\")%(board_id, file_id)\n",
        "bbs_file_dir=base_dir+bbs_file_name"
      ],
      "execution_count": null,
      "outputs": []
    },
    {
      "cell_type": "code",
      "metadata": {
        "id": "dW0G9Zo3qQJv",
        "colab_type": "code",
        "colab": {}
      },
      "source": [
        "# Open txt files to save data\n",
        "if crawl_title==True:\n",
        "  title_crawl_txt=open(title_file_dir,'w')\n",
        "\n",
        "if crawl_article==True:\n",
        "  bbs_crawl_txt=open(bbs_file_dir,'w')\n",
        "\n",
        "# Crawl titles and relative directory of bbs articles by moving bbs pages\n",
        "pages=range(crawl_min,crawl_max)\n",
        "for page in pages:\n",
        "  url=base_url+str(page)\n",
        "  html=rq.get(url, headers={'User-Agent':'el anemos keyword analyzer for word cloud'}).text\n",
        "  soup=BeautifulSoup(html,'lxml')\n",
        "  title_soup=soup.find_all('a', attrs={'class':'deco'})\n",
        "  title_tags=title_soup[len(title_soup)-32 : len(title_soup)-4]\n",
        "  for t in title_tags:\n",
        "    if crawl_title==True:\n",
        "      title_crawl_txt.write(t.text+'\\n')\n",
        "    if crawl_article==True:\n",
        "      bbs_crawl_txt.write(t['href']+'\\n')\n",
        "\n",
        "# Close txt files\n",
        "if crawl_title==True:\n",
        "  title_crawl_txt.close()\n",
        "  \n",
        "if crawl_article==True:\n",
        "  bbs_crawl_txt.close()"
      ],
      "execution_count": null,
      "outputs": []
    },
    {
      "cell_type": "code",
      "metadata": {
        "id": "Rmk3k8Rj-c-d",
        "colab_type": "code",
        "colab": {}
      },
      "source": [
        "# Crawl articles by movind article pages\n",
        "if crawl_article==True:\n",
        "  bbs_crawl_txt=open(bbs_file_dir,'r')\n",
        "  article_crawl_txt=open(article_file_dir,'w')\n",
        "  \n",
        "  dirs=np.loadtxt(bbs_file_dir,delimiter='\\n',dtype=\"str\")\n",
        "  for dir in dirs:\n",
        "    html=rq.get(dir, headers={'User-Agent':'el anemos keyword analyzer for word cloud'}).text\n",
        "    soup=BeautifulSoup(html,'lxml')\n",
        "    article_tags=soup.find_all(\"div\",class_=\"view_content\")\n",
        "    article_text=''\n",
        "    for article_tag in article_tags:\n",
        "      article_text+=(article_tag.text+' ')\n",
        "    article_text=article_text.replace('\\u200b',' ')\n",
        "    article_crawl_txt.write(article_text+'\\n')\n",
        "\n",
        "  bbs_crawl_txt.close()\n",
        "  article_crawl_txt.close()"
      ],
      "execution_count": null,
      "outputs": []
    },
    {
      "cell_type": "code",
      "metadata": {
        "id": "krhABMh8pr-V",
        "colab_type": "code",
        "colab": {}
      },
      "source": [
        "# Function for color\n",
        "def color_func(word, font_size, position, orientation, random_state=None, **kwargs):\n",
        "  return tuple(Dark2_8.colors[random.randint(0,7)])"
      ],
      "execution_count": null,
      "outputs": []
    },
    {
      "cell_type": "code",
      "metadata": {
        "id": "L7RfcHetOy0m",
        "colab_type": "code",
        "colab": {}
      },
      "source": [
        "# str type value for save all crawled materials\n",
        "wordseed=\"\"\n",
        "\n",
        "if crawl_title==True:\n",
        "  title_crawl_txt=open(title_file_dir,'r')\n",
        "  wordseed+=title_crawl_txt.read()\n",
        "  title_crawl_txt.close()\n",
        "\n",
        "if crawl_article==True:\n",
        "  article_crawl_txt=open(article_file_dir,'r')\n",
        "  wordseed+=article_crawl_txt.read()\n",
        "  article_crawl_txt.close()\n",
        "\n",
        "wordseed=wordseed.replace('\\n',' ').replace('\\u3000',' ')"
      ],
      "execution_count": null,
      "outputs": []
    },
    {
      "cell_type": "code",
      "metadata": {
        "id": "7sWYL1Okr5Vq",
        "colab_type": "code",
        "colab": {}
      },
      "source": [
        "# Delete Emoji\n",
        "wordseed=emoji.get_emoji_regexp().sub(u'',wordseed)"
      ],
      "execution_count": null,
      "outputs": []
    },
    {
      "cell_type": "code",
      "metadata": {
        "id": "8K8Dyptpifvc",
        "colab_type": "code",
        "colab": {}
      },
      "source": [
        "tagged_words=konlpy.tag.Komoran(userdic=base_dir+user_dic_name).pos(wordseed)\n",
        "grammar=\"\"\"\n",
        "NP: {<N.*>*<Suffix>?}   # Noun phrase\n",
        "VP: {<V.*>*}            # Verb phrase\n",
        "AP: {<A.*>*}            # Adjective phrase\n",
        "\"\"\"\n",
        "parser=nltk.RegexpParser(grammar)"
      ],
      "execution_count": null,
      "outputs": []
    },
    {
      "cell_type": "code",
      "metadata": {
        "id": "Kv1XP4eKr24k",
        "colab_type": "code",
        "colab": {}
      },
      "source": [
        "wc_words=\"\"\n",
        "for morpheme in tagged_words:\n",
        "  if morpheme[1] in show_tags:\n",
        "    wc_words+=(\"%s \"%morpheme[0]) "
      ],
      "execution_count": null,
      "outputs": []
    },
    {
      "cell_type": "code",
      "metadata": {
        "id": "8qXrXjuBdGgz",
        "colab_type": "code",
        "colab": {}
      },
      "source": [
        "# Word cloud generate (Komoran+user_dic)\n",
        "icon=Image.open(img_dir)\n",
        "mask=Image.new(\"RGB\",icon.size, (255,255,255))\n",
        "mask.paste(icon,icon)\n",
        "mask=np.array(mask)\n",
        "\n",
        "wc=WordCloud(font_path=fontpath, background_color=\"white\",max_words=300,mask=mask,max_font_size=300,random_state=1234567)\n",
        "\n",
        "wc.generate_from_text(wc_words)\n",
        "wc.recolor(color_func=color_func, random_state=1234567)\n",
        "wc.to_file(base_dir+(\"%s Word Cloud %s.png\")%(board_id,file_id))"
      ],
      "execution_count": null,
      "outputs": []
    }
  ]
}
