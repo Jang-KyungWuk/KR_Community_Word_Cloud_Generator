{
  "nbformat": 4,
  "nbformat_minor": 0,
  "metadata": {
    "colab": {
      "name": "Ruliweb Keyword Analyzer v 1.3 multi crawl.ipynb",
      "provenance": [],
      "collapsed_sections": [],
      "authorship_tag": "ABX9TyO6wpVSiZR1z5F6YQMNVBX7",
      "include_colab_link": true
    },
    "kernelspec": {
      "name": "python3",
      "display_name": "Python 3"
    }
  },
  "cells": [
    {
      "cell_type": "markdown",
      "metadata": {
        "id": "view-in-github",
        "colab_type": "text"
      },
      "source": [
        "<a href=\"https://colab.research.google.com/github/Jang-KyungWuk/KR_Community_Word_Cloud_Generator/blob/master/Ruliweb/Ruliweb%20Keyword%20Analyzer.ipynb\" target=\"_parent\"><img src=\"https://colab.research.google.com/assets/colab-badge.svg\" alt=\"Open In Colab\"/></a>"
      ]
    },
    {
      "cell_type": "code",
      "metadata": {
        "id": "On5Msbh-41Cj",
        "colab_type": "code",
        "colab": {}
      },
      "source": [
        "# version 1.3"
      ],
      "execution_count": 1,
      "outputs": []
    },
    {
      "cell_type": "code",
      "metadata": {
        "id": "an1mQan2sLel",
        "colab_type": "code",
        "colab": {
          "base_uri": "https://localhost:8080/",
          "height": 34
        },
        "outputId": "a62d7675-299c-4373-e401-0f19b30edf44"
      },
      "source": [
        "# Import Drive\n",
        "from google.colab import drive\n",
        "drive.mount('/content/gdrive')\n",
        "base_dir=\"/content/gdrive/My Drive/\""
      ],
      "execution_count": 2,
      "outputs": [
        {
          "output_type": "stream",
          "text": [
            "Drive already mounted at /content/gdrive; to attempt to forcibly remount, call drive.mount(\"/content/gdrive\", force_remount=True).\n"
          ],
          "name": "stdout"
        }
      ]
    },
    {
      "cell_type": "code",
      "metadata": {
        "id": "ygfyfE2-8HMW",
        "colab_type": "code",
        "colab": {
          "base_uri": "https://localhost:8080/",
          "height": 699
        },
        "outputId": "d38f6581-0cbe-477c-b6d2-512f883acc54"
      },
      "source": [
        "# KoNLPy Install\n",
        "!apt-get update\n",
        "!apt-get install g++ openjdk-8-jdk \n",
        "!pip3 install konlpy\n",
        "\n",
        "# Install KR Font\n",
        "!apt -qq -y install fonts-nanum\n",
        "fontpath = '/usr/share/fonts/truetype/nanum/NanumBarunGothic.ttf'\n",
        "\n",
        "# Install emoji to delete emojis\n",
        "!pip install emoji"
      ],
      "execution_count": 3,
      "outputs": [
        {
          "output_type": "stream",
          "text": [
            "\r0% [Working]\r            \rIgn:1 https://developer.download.nvidia.com/compute/cuda/repos/ubuntu1804/x86_64  InRelease\n",
            "\r0% [Waiting for headers] [Waiting for headers] [Connected to cloud.r-project.or\r                                                                               \rHit:2 https://cloud.r-project.org/bin/linux/ubuntu bionic-cran35/ InRelease\n",
            "\r0% [Waiting for headers] [Waiting for headers] [Waiting for headers] [Waiting f\r0% [2 InRelease gpgv 3,626 B] [Waiting for headers] [Waiting for headers] [Wait\r                                                                               \rIgn:3 https://developer.download.nvidia.com/compute/machine-learning/repos/ubuntu1804/x86_64  InRelease\n",
            "\r0% [2 InRelease gpgv 3,626 B] [Waiting for headers] [Waiting for headers] [Wait\r                                                                               \rHit:4 http://ppa.launchpad.net/graphics-drivers/ppa/ubuntu bionic InRelease\n",
            "\r0% [2 InRelease gpgv 3,626 B] [Waiting for headers] [Waiting for headers] [Wait\r                                                                               \rGet:5 http://security.ubuntu.com/ubuntu bionic-security InRelease [88.7 kB]\n",
            "\r0% [2 InRelease gpgv 3,626 B] [Waiting for headers] [5 InRelease 14.2 kB/88.7 k\r                                                                               \rHit:6 http://archive.ubuntu.com/ubuntu bionic InRelease\n",
            "\r0% [2 InRelease gpgv 3,626 B] [Waiting for headers] [5 InRelease 14.2 kB/88.7 k\r                                                                               \rHit:7 https://developer.download.nvidia.com/compute/cuda/repos/ubuntu1804/x86_64  Release\n",
            "\r0% [2 InRelease gpgv 3,626 B] [Waiting for headers] [5 InRelease 14.2 kB/88.7 k\r                                                                               \rHit:8 https://developer.download.nvidia.com/compute/machine-learning/repos/ubuntu1804/x86_64  Release\n",
            "Get:9 http://archive.ubuntu.com/ubuntu bionic-updates InRelease [88.7 kB]\n",
            "Hit:10 http://ppa.launchpad.net/marutter/c2d4u3.5/ubuntu bionic InRelease\n",
            "Get:11 http://archive.ubuntu.com/ubuntu bionic-backports InRelease [74.6 kB]\n",
            "Fetched 252 kB in 3s (85.6 kB/s)\n",
            "Reading package lists... Done\n",
            "Reading package lists... Done\n",
            "Building dependency tree       \n",
            "Reading state information... Done\n",
            "g++ is already the newest version (4:7.4.0-1ubuntu2.3).\n",
            "openjdk-8-jdk is already the newest version (8u265-b01-0ubuntu2~18.04).\n",
            "0 upgraded, 0 newly installed, 0 to remove and 36 not upgraded.\n",
            "Requirement already satisfied: konlpy in /usr/local/lib/python3.6/dist-packages (0.5.2)\n",
            "Requirement already satisfied: beautifulsoup4==4.6.0 in /usr/local/lib/python3.6/dist-packages (from konlpy) (4.6.0)\n",
            "Requirement already satisfied: numpy>=1.6 in /usr/local/lib/python3.6/dist-packages (from konlpy) (1.18.5)\n",
            "Requirement already satisfied: JPype1>=0.7.0 in /usr/local/lib/python3.6/dist-packages (from konlpy) (1.0.2)\n",
            "Requirement already satisfied: colorama in /usr/local/lib/python3.6/dist-packages (from konlpy) (0.4.3)\n",
            "Requirement already satisfied: tweepy>=3.7.0 in /usr/local/lib/python3.6/dist-packages (from konlpy) (3.9.0)\n",
            "Requirement already satisfied: lxml>=4.1.0 in /usr/local/lib/python3.6/dist-packages (from konlpy) (4.2.6)\n",
            "Requirement already satisfied: typing-extensions; python_version < \"3.8\" in /usr/local/lib/python3.6/dist-packages (from JPype1>=0.7.0->konlpy) (3.7.4.3)\n",
            "Requirement already satisfied: requests[socks]>=2.11.1 in /usr/local/lib/python3.6/dist-packages (from tweepy>=3.7.0->konlpy) (2.23.0)\n",
            "Requirement already satisfied: requests-oauthlib>=0.7.0 in /usr/local/lib/python3.6/dist-packages (from tweepy>=3.7.0->konlpy) (1.3.0)\n",
            "Requirement already satisfied: six>=1.10.0 in /usr/local/lib/python3.6/dist-packages (from tweepy>=3.7.0->konlpy) (1.15.0)\n",
            "Requirement already satisfied: idna<3,>=2.5 in /usr/local/lib/python3.6/dist-packages (from requests[socks]>=2.11.1->tweepy>=3.7.0->konlpy) (2.10)\n",
            "Requirement already satisfied: chardet<4,>=3.0.2 in /usr/local/lib/python3.6/dist-packages (from requests[socks]>=2.11.1->tweepy>=3.7.0->konlpy) (3.0.4)\n",
            "Requirement already satisfied: certifi>=2017.4.17 in /usr/local/lib/python3.6/dist-packages (from requests[socks]>=2.11.1->tweepy>=3.7.0->konlpy) (2020.6.20)\n",
            "Requirement already satisfied: urllib3!=1.25.0,!=1.25.1,<1.26,>=1.21.1 in /usr/local/lib/python3.6/dist-packages (from requests[socks]>=2.11.1->tweepy>=3.7.0->konlpy) (1.24.3)\n",
            "Requirement already satisfied: PySocks!=1.5.7,>=1.5.6; extra == \"socks\" in /usr/local/lib/python3.6/dist-packages (from requests[socks]>=2.11.1->tweepy>=3.7.0->konlpy) (1.7.1)\n",
            "Requirement already satisfied: oauthlib>=3.0.0 in /usr/local/lib/python3.6/dist-packages (from requests-oauthlib>=0.7.0->tweepy>=3.7.0->konlpy) (3.1.0)\n",
            "fonts-nanum is already the newest version (20170925-1).\n",
            "0 upgraded, 0 newly installed, 0 to remove and 36 not upgraded.\n",
            "Requirement already satisfied: emoji in /usr/local/lib/python3.6/dist-packages (0.6.0)\n"
          ],
          "name": "stdout"
        }
      ]
    },
    {
      "cell_type": "code",
      "metadata": {
        "id": "IiAK3W-vweBp",
        "colab_type": "code",
        "colab": {}
      },
      "source": [
        "# Variables\n",
        "board_id=\"300143\"\n",
        "'''\n",
        "북유게        \"300148\"\n",
        "유게          \"300143\"\n",
        "유머게시판    \"300143?cate=497\"  \n",
        "라스트 오리진 \"184992\"\n",
        "명일방주      \"185062\"\n",
        "'''\n",
        "\n",
        "crawl_pages=[[1,201],[10001,10201],[20001,20201]]\n",
        "\n",
        "crawl_title=True\n",
        "crawl_article=False\n",
        "draw_legend=True\n",
        "\n",
        "img_file=\"noa_b.png\"\n",
        "img_dir=base_dir+img_file\n",
        "\n",
        "user_dic_name=\"ruliweb_user_dic_v20200919.txt\"\n",
        "show_tags=[\"NNG\",\"NNP\",\"NR\",\"IC\",\"SL\",\"SH\",\"SW\",\"SN\"]\n",
        "\n",
        "request_delay=2\n",
        "\n",
        "ranked_keyword=10"
      ],
      "execution_count": 4,
      "outputs": []
    },
    {
      "cell_type": "code",
      "metadata": {
        "id": "QPFXjIYGVMPa",
        "colab_type": "code",
        "colab": {}
      },
      "source": [
        "# Import libraries\n",
        "\n",
        "# For web crawling\n",
        "from bs4 import BeautifulSoup\n",
        "import requests as rq\n",
        "import re\n",
        "\n",
        "# For naming\n",
        "import datetime\n",
        "\n",
        "# For set delay\n",
        "import time\n",
        "\n",
        "# For word cloud generating\n",
        "import numpy as np\n",
        "import random\n",
        "from PIL import Image\n",
        "from wordcloud import WordCloud, STOPWORDS\n",
        "from palettable.colorbrewer.qualitative import Dark2_8\n",
        "\n",
        "# For kr analysis\n",
        "import konlpy\n",
        "import nltk\n",
        "\n",
        "# For emoji delete\n",
        "import emoji\n",
        "\n",
        "# For draw legend\n",
        "import matplotlib.pyplot as plt\n",
        "import matplotlib as mpl\n",
        "import matplotlib.font_manager as fm"
      ],
      "execution_count": 5,
      "outputs": []
    },
    {
      "cell_type": "code",
      "metadata": {
        "id": "sS_V8eolTuHg",
        "colab_type": "code",
        "colab": {}
      },
      "source": [
        "# Set KR Font for matplotlib\n",
        "font=fm.FontProperties(fname=fontpath,size=20)\n",
        "plt.rc('font',family='NanumBarunGothic')\n",
        "mpl.font_manager._rebuild()"
      ],
      "execution_count": 6,
      "outputs": []
    },
    {
      "cell_type": "code",
      "metadata": {
        "id": "v7OGkaWHwLKV",
        "colab_type": "code",
        "colab": {}
      },
      "source": [
        "# Get current time (KST = GMT +9)\n",
        "KST=datetime.timezone(datetime.timedelta(hours=9))\n",
        "now=datetime.datetime.now(KST)\n",
        "MM=now.month\n",
        "DD=now.day\n",
        "hh=now.hour\n",
        "mm=now.minute\n",
        "c_time=(\"%s-%s-%s-%s\")%(MM,DD,hh,mm)"
      ],
      "execution_count": 7,
      "outputs": []
    },
    {
      "cell_type": "code",
      "metadata": {
        "id": "D00VqLMBsfJQ",
        "colab_type": "code",
        "colab": {}
      },
      "source": [
        "# Base URL\n",
        "main_url=\"https://bbs.ruliweb.com/community/board\"\n",
        "base_url=main_url*1\n",
        "base_url+=((\"/%s?page=\")%board_id)"
      ],
      "execution_count": 8,
      "outputs": []
    },
    {
      "cell_type": "code",
      "metadata": {
        "id": "dW0G9Zo3qQJv",
        "colab_type": "code",
        "colab": {}
      },
      "source": [
        "# Open txt files to save data\n",
        "\n",
        "for crawl_page in crawl_pages:\n",
        "  crawl_min, crawl_max=crawl_page\n",
        "\n",
        "  # File names, directories\n",
        "  file_id=(\"%s %s~%s\")%(c_time,crawl_min,(crawl_max-1))\n",
        "\n",
        "  title_file_name=(\"%s title crawl %s.txt\")%(board_id, file_id)\n",
        "  title_file_dir=base_dir+title_file_name\n",
        "\n",
        "  article_file_name=(\"%s article crawl %s.txt\")%(board_id, file_id)\n",
        "  article_file_dir=base_dir+article_file_name\n",
        "\n",
        "  bbs_file_name=(\"%s bbs crawl %s.txt\")%(board_id, file_id)\n",
        "  bbs_file_dir=base_dir+bbs_file_name\n",
        "\n",
        "  if crawl_title==True:\n",
        "    title_crawl_txt=open(title_file_dir,'w')\n",
        "\n",
        "  if crawl_article==True:\n",
        "    bbs_crawl_txt=open(bbs_file_dir,'w')\n",
        "\n",
        "  # Crawl titles and relative directory of bbs articles by moving bbs pages\n",
        "  pages=range(crawl_min,crawl_max)\n",
        "  for page in pages:\n",
        "    url=base_url+str(page)\n",
        "    html=rq.get(url, headers={'User-Agent':'el anemos keyword analyzer for word cloud'}).text\n",
        "    soup=BeautifulSoup(html,'lxml')\n",
        "    title_soup=soup.find_all('a', attrs={'class':'deco'})\n",
        "    title_tags=title_soup[len(title_soup)-32 : len(title_soup)-4]\n",
        "    for t in title_tags:\n",
        "      if crawl_title==True:\n",
        "        title_crawl_txt.write(t.text+'\\n')\n",
        "      if crawl_article==True:\n",
        "        bbs_crawl_txt.write(t['href']+'\\n')\n",
        "    \n",
        "    time.sleep(request_delay)\n",
        "\n",
        "  # Close txt files\n",
        "  if crawl_title==True:\n",
        "    title_crawl_txt.close()\n",
        "    \n",
        "  if crawl_article==True:\n",
        "    bbs_crawl_txt.close()"
      ],
      "execution_count": 9,
      "outputs": []
    },
    {
      "cell_type": "code",
      "metadata": {
        "id": "Rmk3k8Rj-c-d",
        "colab_type": "code",
        "colab": {}
      },
      "source": [
        "# Crawl articles by moving article pages\n",
        "if crawl_article==True:\n",
        "\n",
        "  for crawl_page in crawl_pages:\n",
        "    crawl_min, crawl_max=crawl_page\n",
        "\n",
        "    # File names, directories\n",
        "    file_id=(\"%s %s~%s\")%(c_time,crawl_min,(crawl_max-1))\n",
        "\n",
        "    article_file_name=(\"%s article crawl %s.txt\")%(board_id, file_id)\n",
        "    article_file_dir=base_dir+article_file_name\n",
        "\n",
        "    bbs_file_name=(\"%s bbs crawl %s.txt\")%(board_id, file_id)\n",
        "    bbs_file_dir=base_dir+bbs_file_name\n",
        "\n",
        "    bbs_crawl_txt=open(bbs_file_dir,'r')\n",
        "    article_crawl_txt=open(article_file_dir,'w')\n",
        "    \n",
        "    dirs=np.loadtxt(bbs_file_dir,delimiter='\\n',dtype=\"str\")\n",
        "    for dir in dirs:\n",
        "      html=rq.get(dir, headers={'User-Agent':'el anemos keyword analyzer for word cloud'}).text\n",
        "      soup=BeautifulSoup(html,'lxml')\n",
        "      article_tags=soup.find_all(\"div\",class_=\"view_content\")\n",
        "      article_text=''\n",
        "      for article_tag in article_tags:\n",
        "        article_text+=(article_tag.text+' ')\n",
        "      article_text=article_text.replace('\\u200b',' ')\n",
        "      article_crawl_txt.write(article_text+'\\n')\n",
        "\n",
        "      time.sleep(request_delay)\n",
        "\n",
        "    bbs_crawl_txt.close()\n",
        "    article_crawl_txt.close()"
      ],
      "execution_count": 10,
      "outputs": []
    },
    {
      "cell_type": "code",
      "metadata": {
        "id": "krhABMh8pr-V",
        "colab_type": "code",
        "colab": {}
      },
      "source": [
        "# Function for color\n",
        "def color_func(word, font_size, position, orientation, random_state=None, **kwargs):\n",
        "  return tuple(Dark2_8.colors[random.randint(0,7)])"
      ],
      "execution_count": 11,
      "outputs": []
    },
    {
      "cell_type": "code",
      "metadata": {
        "id": "STPYjURJWcj4",
        "colab_type": "code",
        "colab": {
          "base_uri": "https://localhost:8080/",
          "height": 848
        },
        "outputId": "3871813c-f185-4805-c7fd-e60bda2a01df"
      },
      "source": [
        "for crawl_page in crawl_pages:\n",
        "  crawl_min, crawl_max=crawl_page\n",
        "\n",
        "  # File names, directories\n",
        "  file_id=(\"%s %s~%s\")%(c_time,crawl_min,(crawl_max-1))\n",
        "\n",
        "  title_file_name=(\"%s title crawl %s.txt\")%(board_id, file_id)\n",
        "  title_file_dir=base_dir+title_file_name\n",
        "\n",
        "  article_file_name=(\"%s article crawl %s.txt\")%(board_id, file_id)\n",
        "  article_file_dir=base_dir+article_file_name\n",
        "\n",
        "  bbs_file_name=(\"%s bbs crawl %s.txt\")%(board_id, file_id)\n",
        "  bbs_file_dir=base_dir+bbs_file_name\n",
        "\n",
        "  # str type value for save all crawled materials\n",
        "  wordseed=\"\"\n",
        "\n",
        "  if crawl_title==True:\n",
        "    title_crawl_txt=open(title_file_dir,'r')\n",
        "    wordseed+=title_crawl_txt.read()\n",
        "    title_crawl_txt.close()\n",
        "\n",
        "  if crawl_article==True:\n",
        "    article_crawl_txt=open(article_file_dir,'r')\n",
        "    wordseed+=article_crawl_txt.read()\n",
        "    article_crawl_txt.close()\n",
        "\n",
        "  wordseed=wordseed.replace('\\n',' ').replace('\\u3000',' ')\n",
        "\n",
        "  # Delete Emoji\n",
        "  wordseed=emoji.get_emoji_regexp().sub(u'',wordseed)\n",
        "\n",
        "  tagged_words=konlpy.tag.Komoran(userdic=base_dir+user_dic_name).pos(wordseed)\n",
        "  grammar=\"\"\"\n",
        "  NP: {<N.*>*<Suffix>?}   # Noun phrase\n",
        "  VP: {<V.*>*}            # Verb phrase\n",
        "  AP: {<A.*>*}            # Adjective phrase\n",
        "  \"\"\"\n",
        "  parser=nltk.RegexpParser(grammar)\n",
        "\n",
        "\n",
        "  if draw_legend==True:\n",
        "    legend_morp=[]\n",
        "    legend_count=[]\n",
        "    wc_words=\"\"\n",
        "    for morpheme in tagged_words:\n",
        "      if morpheme[1] in show_tags:\n",
        "        wc_words+=(\"%s \"%morpheme[0])\n",
        "        if morpheme[0].isdigit()==False and len(morpheme[0])>1:\n",
        "          if morpheme[0] in legend_morp:\n",
        "            legend_count[legend_morp.index(morpheme[0])]+=1\n",
        "          else:\n",
        "            legend_morp.append(morpheme[0])\n",
        "            legend_count.append(1)\n",
        "\n",
        "  else:\n",
        "    wc_words=\"\"\n",
        "    for morpheme in tagged_words:\n",
        "      if morpheme[1] in show_tags:\n",
        "        wc_words+=(\"%s \"%morpheme[0]) \n",
        "\n",
        "  # Word cloud generate (Komoran+user_dic)\n",
        "  icon=Image.open(img_dir)\n",
        "  mask=Image.new(\"RGB\",icon.size, (255,255,255))\n",
        "  mask.paste(icon,icon)\n",
        "  mask=np.array(mask)\n",
        "\n",
        "  wc=WordCloud(font_path=fontpath, background_color=\"white\",max_words=200,mask=mask,max_font_size=500,random_state=1234567)\n",
        "\n",
        "  wc.generate_from_text(wc_words)\n",
        "  wc.recolor(color_func=color_func, random_state=1234567)\n",
        "  wc.to_file(base_dir+(\"%s Word Cloud %s.png\")%(board_id,file_id))\n",
        "\n",
        "\n",
        "  if draw_legend==True:\n",
        "    plt_kw=[]\n",
        "    plt_ct=[]\n",
        "    for n in range (ranked_keyword):\n",
        "      index=legend_count.index(max(legend_count))\n",
        "      plt_kw.append(legend_morp.pop(index))\n",
        "      plt_ct.append(legend_count.pop(index))\n",
        "    plt_kw.reverse()\n",
        "    plt_ct.reverse()\n",
        "    plt.barh(plt_kw,plt_ct)\n",
        "    plt.title(\"상위 %s개 키워드 등장 횟수\"%(ranked_keyword))\n",
        "    plt.xlabel(\"등장 횟수\")\n",
        "    plt.savefig(base_dir+(\"%s WC legend %s.png\"%(board_id,file_id)))\n",
        "    plt.show()"
      ],
      "execution_count": 12,
      "outputs": [
        {
          "output_type": "display_data",
          "data": {
            "image/png": "[encoded data removed]",
            "text/plain": [
              "<Figure size 432x288 with 1 Axes>"
            ]
          },
          "metadata": {
            "tags": [],
            "needs_background": "light"
          }
        },
        {
          "output_type": "display_data",
          "data": {
            "image/png": "[encoded data removed]",
            "text/plain": [
              "<Figure size 432x288 with 1 Axes>"
            ]
          },
          "metadata": {
            "tags": [],
            "needs_background": "light"
          }
        },
        {
          "output_type": "display_data",
          "data": {
            "image/png": "[encoded data removed]",
            "text/plain": [
              "<Figure size 432x288 with 1 Axes>"
            ]
          },
          "metadata": {
            "tags": [],
            "needs_background": "light"
          }
        }
      ]
    }
  ]
}