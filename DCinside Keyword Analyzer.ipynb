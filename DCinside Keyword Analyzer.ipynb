{
  "nbformat": 4,
  "nbformat_minor": 0,
  "metadata": {
    "colab": {
      "name": "DCinside Keyword Analyzer v 2.5 commentary.ipynb",
      "provenance": [],
      "collapsed_sections": [],
      "authorship_tag": "ABX9TyMKyTfukpSxywF0lHgB83e1",
      "include_colab_link": true
    },
    "kernelspec": {
      "name": "python3",
      "display_name": "Python 3"
    }
  },
  "cells": [
    {
      "cell_type": "markdown",
      "metadata": {
        "id": "view-in-github",
        "colab_type": "text"
      },
      "source": [
        "<a href=\"https://colab.research.google.com/github/Jang-KyungWuk/KR_Community_Word_Cloud_Generator/blob/master/DCinside%20Keyword%20Analyzer.ipynb\" target=\"_parent\"><img src=\"https://colab.research.google.com/assets/colab-badge.svg\" alt=\"Open In Colab\"/></a>"
      ]
    },
    {
      "cell_type": "code",
      "metadata": {
        "id": "t7cIhLtNVqH6",
        "colab_type": "code",
        "colab": {}
      },
      "source": [
        "# version 2.5"
      ],
      "execution_count": 1,
      "outputs": []
    },
    {
      "cell_type": "code",
      "metadata": {
        "id": "an1mQan2sLel",
        "colab_type": "code",
        "colab": {
          "base_uri": "https://localhost:8080/",
          "height": 34
        },
        "outputId": "86dc216b-e5af-4ce7-ec2e-83cdcd21d9bc"
      },
      "source": [
        "# Import Drive\n",
        "from google.colab import drive\n",
        "drive.mount('/content/gdrive')\n",
        "base_dir=\"/content/gdrive/My Drive/\""
      ],
      "execution_count": 2,
      "outputs": [
        {
          "output_type": "stream",
          "text": [
            "Drive already mounted at /content/gdrive; to attempt to forcibly remount, call drive.mount(\"/content/gdrive\", force_remount=True).\n"
          ],
          "name": "stdout"
        }
      ]
    },
    {
      "cell_type": "code",
      "metadata": {
        "id": "ygfyfE2-8HMW",
        "colab_type": "code",
        "colab": {
          "base_uri": "https://localhost:8080/",
          "height": 664
        },
        "outputId": "dae2ba0c-8a91-4ede-f191-9e29b8f4b441"
      },
      "source": [
        "# KoNLPy Install\n",
        "!apt-get update\n",
        "!apt-get install g++ openjdk-8-jdk \n",
        "!pip3 install konlpy\n",
        "\n",
        "# Install KR Font\n",
        "!apt -qq -y install fonts-nanum\n",
        "fontpath = '/usr/share/fonts/truetype/nanum/NanumBarunGothic.ttf'"
      ],
      "execution_count": 3,
      "outputs": [
        {
          "output_type": "stream",
          "text": [
            "Hit:1 https://cloud.r-project.org/bin/linux/ubuntu bionic-cran35/ InRelease\n",
            "Ign:2 https://developer.download.nvidia.com/compute/cuda/repos/ubuntu1804/x86_64  InRelease\n",
            "Ign:3 https://developer.download.nvidia.com/compute/machine-learning/repos/ubuntu1804/x86_64  InRelease\n",
            "Hit:4 https://developer.download.nvidia.com/compute/cuda/repos/ubuntu1804/x86_64  Release\n",
            "Hit:5 https://developer.download.nvidia.com/compute/machine-learning/repos/ubuntu1804/x86_64  Release\n",
            "Hit:6 http://security.ubuntu.com/ubuntu bionic-security InRelease\n",
            "Hit:7 http://ppa.launchpad.net/graphics-drivers/ppa/ubuntu bionic InRelease\n",
            "Hit:8 http://archive.ubuntu.com/ubuntu bionic InRelease\n",
            "Hit:10 http://archive.ubuntu.com/ubuntu bionic-updates InRelease\n",
            "Hit:12 http://ppa.launchpad.net/marutter/c2d4u3.5/ubuntu bionic InRelease\n",
            "Hit:13 http://archive.ubuntu.com/ubuntu bionic-backports InRelease\n",
            "Reading package lists... Done\n",
            "Reading package lists... Done\n",
            "Building dependency tree       \n",
            "Reading state information... Done\n",
            "g++ is already the newest version (4:7.4.0-1ubuntu2.3).\n",
            "openjdk-8-jdk is already the newest version (8u265-b01-0ubuntu2~18.04).\n",
            "0 upgraded, 0 newly installed, 0 to remove and 36 not upgraded.\n",
            "Requirement already satisfied: konlpy in /usr/local/lib/python3.6/dist-packages (0.5.2)\n",
            "Requirement already satisfied: lxml>=4.1.0 in /usr/local/lib/python3.6/dist-packages (from konlpy) (4.2.6)\n",
            "Requirement already satisfied: JPype1>=0.7.0 in /usr/local/lib/python3.6/dist-packages (from konlpy) (1.0.2)\n",
            "Requirement already satisfied: numpy>=1.6 in /usr/local/lib/python3.6/dist-packages (from konlpy) (1.18.5)\n",
            "Requirement already satisfied: colorama in /usr/local/lib/python3.6/dist-packages (from konlpy) (0.4.3)\n",
            "Requirement already satisfied: tweepy>=3.7.0 in /usr/local/lib/python3.6/dist-packages (from konlpy) (3.9.0)\n",
            "Requirement already satisfied: beautifulsoup4==4.6.0 in /usr/local/lib/python3.6/dist-packages (from konlpy) (4.6.0)\n",
            "Requirement already satisfied: typing-extensions; python_version < \"3.8\" in /usr/local/lib/python3.6/dist-packages (from JPype1>=0.7.0->konlpy) (3.7.4.3)\n",
            "Requirement already satisfied: requests[socks]>=2.11.1 in /usr/local/lib/python3.6/dist-packages (from tweepy>=3.7.0->konlpy) (2.23.0)\n",
            "Requirement already satisfied: requests-oauthlib>=0.7.0 in /usr/local/lib/python3.6/dist-packages (from tweepy>=3.7.0->konlpy) (1.3.0)\n",
            "Requirement already satisfied: six>=1.10.0 in /usr/local/lib/python3.6/dist-packages (from tweepy>=3.7.0->konlpy) (1.15.0)\n",
            "Requirement already satisfied: chardet<4,>=3.0.2 in /usr/local/lib/python3.6/dist-packages (from requests[socks]>=2.11.1->tweepy>=3.7.0->konlpy) (3.0.4)\n",
            "Requirement already satisfied: certifi>=2017.4.17 in /usr/local/lib/python3.6/dist-packages (from requests[socks]>=2.11.1->tweepy>=3.7.0->konlpy) (2020.6.20)\n",
            "Requirement already satisfied: urllib3!=1.25.0,!=1.25.1,<1.26,>=1.21.1 in /usr/local/lib/python3.6/dist-packages (from requests[socks]>=2.11.1->tweepy>=3.7.0->konlpy) (1.24.3)\n",
            "Requirement already satisfied: idna<3,>=2.5 in /usr/local/lib/python3.6/dist-packages (from requests[socks]>=2.11.1->tweepy>=3.7.0->konlpy) (2.10)\n",
            "Requirement already satisfied: PySocks!=1.5.7,>=1.5.6; extra == \"socks\" in /usr/local/lib/python3.6/dist-packages (from requests[socks]>=2.11.1->tweepy>=3.7.0->konlpy) (1.7.1)\n",
            "Requirement already satisfied: oauthlib>=3.0.0 in /usr/local/lib/python3.6/dist-packages (from requests-oauthlib>=0.7.0->tweepy>=3.7.0->konlpy) (3.1.0)\n",
            "fonts-nanum is already the newest version (20170925-1).\n",
            "0 upgraded, 0 newly installed, 0 to remove and 36 not upgraded.\n"
          ],
          "name": "stdout"
        }
      ]
    },
    {
      "cell_type": "code",
      "metadata": {
        "id": "QPFXjIYGVMPa",
        "colab_type": "code",
        "colab": {}
      },
      "source": [
        "# Import libraries\n",
        "\n",
        "# For web crawling\n",
        "from bs4 import BeautifulSoup\n",
        "import requests as rq\n",
        "import re\n",
        "\n",
        "# For naming\n",
        "import datetime\n",
        "\n",
        "# For word cloud generating\n",
        "import numpy as np\n",
        "import random\n",
        "from PIL import Image\n",
        "from wordcloud import WordCloud, STOPWORDS\n",
        "from palettable.colorbrewer.qualitative import Dark2_8\n",
        "\n",
        "# For kr analysis\n",
        "import konlpy\n",
        "import nltk\n",
        "\n",
        "# For set delay\n",
        "import time\n",
        "\n",
        "# For draw legend\n",
        "import matplotlib.pyplot as plt\n",
        "import matplotlib as mpl\n",
        "import matplotlib.font_manager as fm"
      ],
      "execution_count": 4,
      "outputs": []
    },
    {
      "cell_type": "code",
      "metadata": {
        "id": "LS3pSxyXawJb",
        "colab_type": "code",
        "colab": {}
      },
      "source": [
        "# Set KR Font for matplotlib\n",
        "font=fm.FontProperties(fname=fontpath,size=20)\n",
        "plt.rc('font',family='NanumBarunGothic')\n",
        "mpl.font_manager._rebuild()"
      ],
      "execution_count": 5,
      "outputs": []
    },
    {
      "cell_type": "code",
      "metadata": {
        "id": "O3Q0w2flODAl",
        "colab_type": "code",
        "colab": {}
      },
      "source": [
        "# Variables\n",
        "is_m_gallary=True\n",
        "gallary_id=\"hypergryph\"\n",
        "\n",
        "crawl_pages=[[1,21],[21,41],[41,61]]\n",
        "official_announce=1\n",
        "title_tag_pos_min, title_tag_pos_max=(21+official_announce),(71+official_announce)\n",
        "\n",
        "crawl_title=True\n",
        "crawl_article=False\n",
        "\n",
        "draw_legend=True\n",
        "\n",
        "img_file=\"amiya_b.png\"\n",
        "img_dir=base_dir+img_file\n",
        "\n",
        "user_dic_file=\"ark_user_dic_v20200918\"\n",
        "show_tags=[\"NNG\",\"NNP\",\"NR\",\"IC\",\"SL\",\"SH\",\"SW\",\"SN\"]\n",
        "\n",
        "request_delay=1\n",
        "\n",
        "ranked_keyword=10"
      ],
      "execution_count": 6,
      "outputs": []
    },
    {
      "cell_type": "code",
      "metadata": {
        "id": "v7OGkaWHwLKV",
        "colab_type": "code",
        "colab": {}
      },
      "source": [
        "# Get current time (KST = GMT +9)\n",
        "KST=datetime.timezone(datetime.timedelta(hours=9))\n",
        "now=datetime.datetime.now(KST)\n",
        "MM=now.month\n",
        "DD=now.day\n",
        "hh=now.hour\n",
        "mm=now.minute\n",
        "c_time=(\"%s-%s-%s-%s\")%(MM,DD,hh,mm)"
      ],
      "execution_count": 7,
      "outputs": []
    },
    {
      "cell_type": "code",
      "metadata": {
        "id": "D00VqLMBsfJQ",
        "colab_type": "code",
        "colab": {}
      },
      "source": [
        "# Base URL\n",
        "main_url=\"https://gall.dcinside.com\"\n",
        "base_url=main_url*1\n",
        "if is_m_gallary==True:\n",
        "  base_url+=\"/mgallery\"\n",
        "base_url+=((\"/board/lists/?id=%s&page=\")%gallary_id)"
      ],
      "execution_count": 8,
      "outputs": []
    },
    {
      "cell_type": "code",
      "metadata": {
        "id": "PtaGCj5sqiCR",
        "colab_type": "code",
        "colab": {}
      },
      "source": [
        "# Function to find titles\n",
        "def title_finder(tag):\n",
        "  return tag.has_attr('href') and not tag.has_attr('class') and not tag.has_attr('rel')"
      ],
      "execution_count": 9,
      "outputs": []
    },
    {
      "cell_type": "code",
      "metadata": {
        "id": "iMVNmOyuJ48e",
        "colab_type": "code",
        "colab": {}
      },
      "source": [
        "# Function to find article\n",
        "def article_finder(tag):\n",
        "  if tag.is_empty_element==False:\n",
        "    return tag.has_attr('style') and not tag.has_attr('src') and not tag.has_attr('id')"
      ],
      "execution_count": 10,
      "outputs": []
    },
    {
      "cell_type": "code",
      "metadata": {
        "id": "krhABMh8pr-V",
        "colab_type": "code",
        "colab": {}
      },
      "source": [
        "# Function for coloring\n",
        "def color_func(word, font_size, position, orientation, random_state=None, **kwargs):\n",
        "  return tuple(Dark2_8.colors[random.randint(0,7)])"
      ],
      "execution_count": 11,
      "outputs": []
    },
    {
      "cell_type": "code",
      "metadata": {
        "id": "EMEhkc81QEBD",
        "colab_type": "code",
        "colab": {}
      },
      "source": [
        "# Get divided crawl pages\n",
        "for crawl_page in crawl_pages:\n",
        "  crawl_min,crawl_max=crawl_page\n",
        "\n",
        "  # File names, directories\n",
        "  file_id=(\"%s %s~%s\")%(c_time,crawl_min,(crawl_max-1))\n",
        "\n",
        "  title_file_name=(\"%s title crawl %s.txt\")%(gallary_id, file_id)\n",
        "  title_file_dir=base_dir+title_file_name\n",
        "\n",
        "  article_file_name=(\"%s article crawl %s.txt\")%(gallary_id, file_id)\n",
        "  article_file_dir=base_dir+article_file_name\n",
        "\n",
        "  bbs_file_name=(\"%s bbs crawl %s.txt\")%(gallary_id, file_id)\n",
        "  bbs_file_dir=base_dir+bbs_file_name\n",
        "\n",
        "  # Open txt files to save data\n",
        "  if crawl_title==True:\n",
        "    title_crawl_txt=open(title_file_dir,'w')\n",
        "\n",
        "  if crawl_article==True:\n",
        "    bbs_crawl_txt=open(bbs_file_dir,'w')\n",
        "\n",
        "  # Crawl titles and relative directory of bbs articles by moving bbs pages\n",
        "  pages=range(crawl_min,crawl_max)\n",
        "  for page in pages:\n",
        "    url=base_url+str(page)\n",
        "    html=rq.get(url, headers={'User-Agent':'el anemos keyword analyzer for word cloud'}).text\n",
        "    soup=BeautifulSoup(html,'lxml')\n",
        "    tags=soup.find_all(title_finder)\n",
        "    bbs_tags=tags[title_tag_pos_min:title_tag_pos_max]\n",
        "    for t in bbs_tags:\n",
        "      if crawl_title==True:\n",
        "        title_crawl_txt.write(t.text+'\\n')\n",
        "      if crawl_article==True:\n",
        "        bbs_crawl_txt.write(main_url+t['href']+'\\n')\n",
        "    time.sleep(request_delay)\n",
        "\n",
        "  # Close txt files\n",
        "  if crawl_title==True:\n",
        "    title_crawl_txt.close()\n",
        "    \n",
        "  if crawl_article==True:\n",
        "    bbs_crawl_txt.close()"
      ],
      "execution_count": 12,
      "outputs": []
    },
    {
      "cell_type": "code",
      "metadata": {
        "id": "CE0_jxSKR1T5",
        "colab_type": "code",
        "colab": {}
      },
      "source": [
        "# crawl_bbs\n",
        "if crawl_article==True:\n",
        "  for crawl_page in crawl_pages:\n",
        "    crawl_min,crawl_max=crawl_page\n",
        "\n",
        "    # File names, directories\n",
        "    file_id=(\"%s %s~%s\")%(c_time,crawl_min,(crawl_max-1))\n",
        "\n",
        "    article_file_name=(\"%s article crawl %s.txt\")%(gallary_id, file_id)\n",
        "    article_file_dir=base_dir+article_file_name\n",
        "\n",
        "    bbs_file_name=(\"%s bbs crawl %s.txt\")%(gallary_id, file_id)\n",
        "    bbs_file_dir=base_dir+bbs_file_name\n",
        "\n",
        "    bbs_crawl_txt=open(bbs_file_dir,'r')\n",
        "    article_crawl_txt=open(article_file_dir,'w')\n",
        "    \n",
        "    dirs=np.loadtxt(bbs_file_dir,delimiter='\\n',dtype=\"str\")\n",
        "    for dir in dirs:\n",
        "      html=rq.get(dir, headers={'User-Agent':'el anemos keyword analyzer for word cloud'}).text\n",
        "      soup=BeautifulSoup(html,'lxml')\n",
        "      article=soup.find_all(article_finder)[9].text\n",
        "      article=article.replace('\\n',' ').replace('\\u200b',' ').replace('- dc official App','')\n",
        "      article_crawl_txt.write(article+'\\n')\n",
        "      time.sleep(request_delay)\n",
        "\n",
        "    bbs_crawl_txt.close()\n",
        "    article_crawl_txt.close()"
      ],
      "execution_count": 13,
      "outputs": []
    },
    {
      "cell_type": "code",
      "metadata": {
        "id": "Sn3afgPTSRa6",
        "colab_type": "code",
        "colab": {
          "base_uri": "https://localhost:8080/",
          "height": 848
        },
        "outputId": "3acca371-c012-4ee0-9904-32997cd4268f"
      },
      "source": [
        "for crawl_page in crawl_pages:\n",
        "  crawl_min,crawl_max=crawl_page\n",
        "\n",
        "  # File names, directories\n",
        "  file_id=(\"%s %s~%s\")%(c_time,crawl_min,(crawl_max-1))\n",
        "\n",
        "  title_file_name=(\"%s title crawl %s.txt\")%(gallary_id, file_id)\n",
        "  title_file_dir=base_dir+title_file_name\n",
        "\n",
        "  article_file_name=(\"%s article crawl %s.txt\")%(gallary_id, file_id)\n",
        "  article_file_dir=base_dir+article_file_name\n",
        "\n",
        "  # str type value for save all crawled materials\n",
        "  wordseed=\"\"\n",
        "\n",
        "  if crawl_title==True:\n",
        "    title_crawl_txt=open(title_file_dir,'r')\n",
        "    wordseed+=title_crawl_txt.read()\n",
        "    title_crawl_txt.close()\n",
        "  \n",
        "  if crawl_article==True:\n",
        "    article_crawl_txt=open(article_file_dir,'r')\n",
        "    wordseed+=article_crawl_txt.read()\n",
        "    article_crawl_txt.close()\n",
        "\n",
        "  # Delete '\\n (Enter key input)'\n",
        "  wordseed=wordseed.replace('\\n',' ')\n",
        "\n",
        "  tagged_words=konlpy.tag.Komoran(userdic=base_dir+user_dic_file).pos(wordseed)\n",
        "  grammar=\"\"\"\n",
        "NP: {<N.*>*<Suffix>?}   # Noun phrase\n",
        "VP: {<V.*>*}            # Verb phrase\n",
        "AP: {<A.*>*}            # Adjective phrase\n",
        "\"\"\"\n",
        "  parser=nltk.RegexpParser(grammar)\n",
        "\n",
        "\n",
        "  if draw_legend==True:\n",
        "\n",
        "    legend_morp=[]\n",
        "    legend_count=[]\n",
        "\n",
        "    wc_words=\"\"\n",
        "    for morpheme in tagged_words:\n",
        "      if morpheme[1] in show_tags:\n",
        "        wc_words+=(\"%s \"%morpheme[0])\n",
        "        if morpheme[0].isdigit()==False and len(morpheme[0])>1:\n",
        "          if morpheme[0] in legend_morp:\n",
        "            legend_count[legend_morp.index(morpheme[0])]+=1\n",
        "          else:\n",
        "            legend_morp.append(morpheme[0])\n",
        "            legend_count.append(1)\n",
        "\n",
        "  else:\n",
        "    wc_words=\"\"\n",
        "    for morpheme in tagged_words:\n",
        "      if morpheme[1] in show_tags:\n",
        "        wc_words+=(\"%s \"%morpheme[0]) \n",
        "\n",
        "  # Word cloud generate (Komoran+user_dic)\n",
        "  icon=Image.open(img_dir)\n",
        "  mask=Image.new(\"RGB\",icon.size, (255,255,255))\n",
        "  mask.paste(icon,icon)\n",
        "  mask=np.array(mask)\n",
        "\n",
        "  wc=WordCloud(font_path=fontpath, background_color=\"white\",max_words=150,mask=mask,max_font_size=400,random_state=1234567)\n",
        "\n",
        "  wc.generate_from_text(wc_words)\n",
        "  wc.recolor(color_func=color_func, random_state=1234567)\n",
        "  \n",
        "  wc_dir=base_dir+(\"%s Word Cloud %s.png\")%(gallary_id,file_id)\n",
        "  wc.to_file(wc_dir)\n",
        "\n",
        "\n",
        "  if draw_legend==True:\n",
        "    plt_kw=[]\n",
        "    plt_ct=[]\n",
        "    for n in range (ranked_keyword):\n",
        "      index=legend_count.index(max(legend_count))\n",
        "      plt_kw.append(legend_morp.pop(index))\n",
        "      plt_ct.append(legend_count.pop(index))\n",
        "    plt_kw.reverse()\n",
        "    plt_ct.reverse()\n",
        "    plt.barh(plt_kw,plt_ct)\n",
        "    plt.title(\"상위 %s개 키워드 등장 횟수\"%(ranked_keyword))\n",
        "    plt.xlabel(\"등장 횟수\")\n",
        "    plt.savefig(base_dir+(\"%s WC legend %s.png\"%(gallary_id,file_id)))\n",
        "    plt.show()"
      ],
      "execution_count": 14,
      "outputs": [
        {
          "output_type": "display_data",
          "data": {
            "image/png": "[encoded data removed]",
            "text/plain": [
              "<Figure size 432x288 with 1 Axes>"
            ]
          },
          "metadata": {
            "tags": [],
            "needs_background": "light"
          }
        },
        {
          "output_type": "display_data",
          "data": {
            "image/png": "[encoded data removed]",
            "text/plain": [
              "<Figure size 432x288 with 1 Axes>"
            ]
          },
          "metadata": {
            "tags": [],
            "needs_background": "light"
          }
        },
        {
          "output_type": "display_data",
          "data": {
            "image/png": "[encoded data removed]",
            "text/plain": [
              "<Figure size 432x288 with 1 Axes>"
            ]
          },
          "metadata": {
            "tags": [],
            "needs_background": "light"
          }
        }
      ]
    }
  ]
}